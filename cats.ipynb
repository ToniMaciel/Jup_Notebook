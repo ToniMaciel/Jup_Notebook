{
  "nbformat": 4,
  "nbformat_minor": 0,
  "metadata": {
    "colab": {
      "name": "cats.ipynb",
      "provenance": [],
      "authorship_tag": "ABX9TyPrQxAnJw7J/tGUkNh5U+Xx"
    },
    "kernelspec": {
      "name": "python3",
      "display_name": "Python 3"
    },
    "accelerator": "GPU",
    "widgets": {
      "application/vnd.jupyter.widget-state+json": {
        "c8d9d8dd05d941c9abc32218f9c48a4c": {
          "model_module": "@jupyter-widgets/controls",
          "model_name": "VBoxModel",
          "state": {
            "_view_name": "VBoxView",
            "_dom_classes": [],
            "_model_name": "VBoxModel",
            "_view_module": "@jupyter-widgets/controls",
            "_model_module_version": "1.5.0",
            "_view_count": null,
            "_view_module_version": "1.5.0",
            "box_style": "",
            "layout": "IPY_MODEL_1da98f11879c4963b2d9d48ea2ad9aa3",
            "_model_module": "@jupyter-widgets/controls",
            "children": [
              "IPY_MODEL_5fd03976d5e64d7fa830474f2b24c7d9",
              "IPY_MODEL_0dfe5a33e31b4da7bdac7ee59d362adb",
              "IPY_MODEL_ed0a3e2d9c9e4d80b20f04607a9142fd",
              "IPY_MODEL_fcde771944294f738abccc048f7e0019",
              "IPY_MODEL_4cc458219881413cbd5f40cd7b3011b7"
            ]
          }
        },
        "1da98f11879c4963b2d9d48ea2ad9aa3": {
          "model_module": "@jupyter-widgets/base",
          "model_name": "LayoutModel",
          "state": {
            "_view_name": "LayoutView",
            "grid_template_rows": null,
            "right": null,
            "justify_content": null,
            "_view_module": "@jupyter-widgets/base",
            "overflow": null,
            "_model_module_version": "1.2.0",
            "_view_count": null,
            "flex_flow": null,
            "width": null,
            "min_width": null,
            "border": null,
            "align_items": null,
            "bottom": null,
            "_model_module": "@jupyter-widgets/base",
            "top": null,
            "grid_column": null,
            "overflow_y": null,
            "overflow_x": null,
            "grid_auto_flow": null,
            "grid_area": null,
            "grid_template_columns": null,
            "flex": null,
            "_model_name": "LayoutModel",
            "justify_items": null,
            "grid_row": null,
            "max_height": null,
            "align_content": null,
            "visibility": null,
            "align_self": null,
            "height": null,
            "min_height": null,
            "padding": null,
            "grid_auto_rows": null,
            "grid_gap": null,
            "max_width": null,
            "order": null,
            "_view_module_version": "1.2.0",
            "grid_template_areas": null,
            "object_position": null,
            "object_fit": null,
            "grid_auto_columns": null,
            "margin": null,
            "display": null,
            "left": null
          }
        },
        "5fd03976d5e64d7fa830474f2b24c7d9": {
          "model_module": "@jupyter-widgets/controls",
          "model_name": "LabelModel",
          "state": {
            "_view_name": "LabelView",
            "style": "IPY_MODEL_fc86f3e71bbc4ee087537f009af13750",
            "_dom_classes": [],
            "description": "",
            "_model_name": "LabelModel",
            "placeholder": "​",
            "_view_module": "@jupyter-widgets/controls",
            "_model_module_version": "1.5.0",
            "value": "Select your cat!",
            "_view_count": null,
            "_view_module_version": "1.5.0",
            "description_tooltip": null,
            "_model_module": "@jupyter-widgets/controls",
            "layout": "IPY_MODEL_7e8181e26f754a239dd8b714b05ca108"
          }
        },
        "0dfe5a33e31b4da7bdac7ee59d362adb": {
          "model_module": "@jupyter-widgets/controls",
          "model_name": "FileUploadModel",
          "state": {
            "_view_name": "FileUploadView",
            "_counter": 1,
            "style": "IPY_MODEL_eeccf2047e584d33aae03846b4e87ea0",
            "_dom_classes": [],
            "description": "Upload",
            "multiple": false,
            "_model_name": "FileUploadModel",
            "data": [
              null
            ],
            "button_style": "",
            "_view_module": "@jupyter-widgets/controls",
            "_model_module_version": "1.5.0",
            "accept": "",
            "_view_count": null,
            "disabled": false,
            "_view_module_version": "1.5.0",
            "error": "",
            "description_tooltip": null,
            "metadata": [
              {
                "name": "420px-Okonjima_Lioness.jpg",
                "type": "image/jpeg",
                "size": 43011,
                "lastModified": 1614475141324
              }
            ],
            "_model_module": "@jupyter-widgets/controls",
            "layout": "IPY_MODEL_843488eeff7d47aba8e730f3993eed6b",
            "icon": "upload"
          }
        },
        "ed0a3e2d9c9e4d80b20f04607a9142fd": {
          "model_module": "@jupyter-widgets/controls",
          "model_name": "ButtonModel",
          "state": {
            "_view_name": "ButtonView",
            "style": "IPY_MODEL_853f6c6702b6494bbdb68ac8b22469bc",
            "_dom_classes": [],
            "description": "Classify",
            "_model_name": "ButtonModel",
            "button_style": "",
            "_view_module": "@jupyter-widgets/controls",
            "_model_module_version": "1.5.0",
            "tooltip": "",
            "_view_count": null,
            "disabled": false,
            "_view_module_version": "1.5.0",
            "layout": "IPY_MODEL_ccb33b98fc8e46b7a701c91c3a9134b8",
            "_model_module": "@jupyter-widgets/controls",
            "icon": ""
          }
        },
        "fcde771944294f738abccc048f7e0019": {
          "model_module": "@jupyter-widgets/output",
          "model_name": "OutputModel",
          "state": {
            "_view_name": "OutputView",
            "msg_id": "",
            "_dom_classes": [],
            "_model_name": "OutputModel",
            "outputs": [
              {
                "output_type": "display_data",
                "metadata": {
                  "tags": []
                },
                "image/png": "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\n",
                "text/plain": "<PIL.Image.Image image mode=RGB size=128x112 at 0x7FF18BC6E710>"
              }
            ],
            "_view_module": "@jupyter-widgets/output",
            "_model_module_version": "1.0.0",
            "_view_count": null,
            "_view_module_version": "1.0.0",
            "layout": "IPY_MODEL_7e9c2a7a3db94a109bf736602f0b3fe1",
            "_model_module": "@jupyter-widgets/output"
          }
        },
        "4cc458219881413cbd5f40cd7b3011b7": {
          "model_module": "@jupyter-widgets/controls",
          "model_name": "LabelModel",
          "state": {
            "_view_name": "LabelView",
            "style": "IPY_MODEL_f75e5fbbc4a54d5d8c72147187280227",
            "_dom_classes": [],
            "description": "",
            "_model_name": "LabelModel",
            "placeholder": "​",
            "_view_module": "@jupyter-widgets/controls",
            "_model_module_version": "1.5.0",
            "value": "Prediction: Panthera leo; Probability: 0.9969",
            "_view_count": null,
            "_view_module_version": "1.5.0",
            "description_tooltip": null,
            "_model_module": "@jupyter-widgets/controls",
            "layout": "IPY_MODEL_fbe65c9d3b694bfcac97b084307ff39d"
          }
        },
        "fc86f3e71bbc4ee087537f009af13750": {
          "model_module": "@jupyter-widgets/controls",
          "model_name": "DescriptionStyleModel",
          "state": {
            "_view_name": "StyleView",
            "_model_name": "DescriptionStyleModel",
            "description_width": "",
            "_view_module": "@jupyter-widgets/base",
            "_model_module_version": "1.5.0",
            "_view_count": null,
            "_view_module_version": "1.2.0",
            "_model_module": "@jupyter-widgets/controls"
          }
        },
        "7e8181e26f754a239dd8b714b05ca108": {
          "model_module": "@jupyter-widgets/base",
          "model_name": "LayoutModel",
          "state": {
            "_view_name": "LayoutView",
            "grid_template_rows": null,
            "right": null,
            "justify_content": null,
            "_view_module": "@jupyter-widgets/base",
            "overflow": null,
            "_model_module_version": "1.2.0",
            "_view_count": null,
            "flex_flow": null,
            "width": null,
            "min_width": null,
            "border": null,
            "align_items": null,
            "bottom": null,
            "_model_module": "@jupyter-widgets/base",
            "top": null,
            "grid_column": null,
            "overflow_y": null,
            "overflow_x": null,
            "grid_auto_flow": null,
            "grid_area": null,
            "grid_template_columns": null,
            "flex": null,
            "_model_name": "LayoutModel",
            "justify_items": null,
            "grid_row": null,
            "max_height": null,
            "align_content": null,
            "visibility": null,
            "align_self": null,
            "height": null,
            "min_height": null,
            "padding": null,
            "grid_auto_rows": null,
            "grid_gap": null,
            "max_width": null,
            "order": null,
            "_view_module_version": "1.2.0",
            "grid_template_areas": null,
            "object_position": null,
            "object_fit": null,
            "grid_auto_columns": null,
            "margin": null,
            "display": null,
            "left": null
          }
        },
        "eeccf2047e584d33aae03846b4e87ea0": {
          "model_module": "@jupyter-widgets/controls",
          "model_name": "ButtonStyleModel",
          "state": {
            "_view_name": "StyleView",
            "_model_name": "ButtonStyleModel",
            "_view_module": "@jupyter-widgets/base",
            "_model_module_version": "1.5.0",
            "_view_count": null,
            "button_color": null,
            "font_weight": "",
            "_view_module_version": "1.2.0",
            "_model_module": "@jupyter-widgets/controls"
          }
        },
        "843488eeff7d47aba8e730f3993eed6b": {
          "model_module": "@jupyter-widgets/base",
          "model_name": "LayoutModel",
          "state": {
            "_view_name": "LayoutView",
            "grid_template_rows": null,
            "right": null,
            "justify_content": null,
            "_view_module": "@jupyter-widgets/base",
            "overflow": null,
            "_model_module_version": "1.2.0",
            "_view_count": null,
            "flex_flow": null,
            "width": null,
            "min_width": null,
            "border": null,
            "align_items": null,
            "bottom": null,
            "_model_module": "@jupyter-widgets/base",
            "top": null,
            "grid_column": null,
            "overflow_y": null,
            "overflow_x": null,
            "grid_auto_flow": null,
            "grid_area": null,
            "grid_template_columns": null,
            "flex": null,
            "_model_name": "LayoutModel",
            "justify_items": null,
            "grid_row": null,
            "max_height": null,
            "align_content": null,
            "visibility": null,
            "align_self": null,
            "height": null,
            "min_height": null,
            "padding": null,
            "grid_auto_rows": null,
            "grid_gap": null,
            "max_width": null,
            "order": null,
            "_view_module_version": "1.2.0",
            "grid_template_areas": null,
            "object_position": null,
            "object_fit": null,
            "grid_auto_columns": null,
            "margin": null,
            "display": null,
            "left": null
          }
        },
        "853f6c6702b6494bbdb68ac8b22469bc": {
          "model_module": "@jupyter-widgets/controls",
          "model_name": "ButtonStyleModel",
          "state": {
            "_view_name": "StyleView",
            "_model_name": "ButtonStyleModel",
            "_view_module": "@jupyter-widgets/base",
            "_model_module_version": "1.5.0",
            "_view_count": null,
            "button_color": null,
            "font_weight": "",
            "_view_module_version": "1.2.0",
            "_model_module": "@jupyter-widgets/controls"
          }
        },
        "ccb33b98fc8e46b7a701c91c3a9134b8": {
          "model_module": "@jupyter-widgets/base",
          "model_name": "LayoutModel",
          "state": {
            "_view_name": "LayoutView",
            "grid_template_rows": null,
            "right": null,
            "justify_content": null,
            "_view_module": "@jupyter-widgets/base",
            "overflow": null,
            "_model_module_version": "1.2.0",
            "_view_count": null,
            "flex_flow": null,
            "width": null,
            "min_width": null,
            "border": null,
            "align_items": null,
            "bottom": null,
            "_model_module": "@jupyter-widgets/base",
            "top": null,
            "grid_column": null,
            "overflow_y": null,
            "overflow_x": null,
            "grid_auto_flow": null,
            "grid_area": null,
            "grid_template_columns": null,
            "flex": null,
            "_model_name": "LayoutModel",
            "justify_items": null,
            "grid_row": null,
            "max_height": null,
            "align_content": null,
            "visibility": null,
            "align_self": null,
            "height": null,
            "min_height": null,
            "padding": null,
            "grid_auto_rows": null,
            "grid_gap": null,
            "max_width": null,
            "order": null,
            "_view_module_version": "1.2.0",
            "grid_template_areas": null,
            "object_position": null,
            "object_fit": null,
            "grid_auto_columns": null,
            "margin": null,
            "display": null,
            "left": null
          }
        },
        "f75e5fbbc4a54d5d8c72147187280227": {
          "model_module": "@jupyter-widgets/controls",
          "model_name": "DescriptionStyleModel",
          "state": {
            "_view_name": "StyleView",
            "_model_name": "DescriptionStyleModel",
            "description_width": "",
            "_view_module": "@jupyter-widgets/base",
            "_model_module_version": "1.5.0",
            "_view_count": null,
            "_view_module_version": "1.2.0",
            "_model_module": "@jupyter-widgets/controls"
          }
        },
        "fbe65c9d3b694bfcac97b084307ff39d": {
          "model_module": "@jupyter-widgets/base",
          "model_name": "LayoutModel",
          "state": {
            "_view_name": "LayoutView",
            "grid_template_rows": null,
            "right": null,
            "justify_content": null,
            "_view_module": "@jupyter-widgets/base",
            "overflow": null,
            "_model_module_version": "1.2.0",
            "_view_count": null,
            "flex_flow": null,
            "width": null,
            "min_width": null,
            "border": null,
            "align_items": null,
            "bottom": null,
            "_model_module": "@jupyter-widgets/base",
            "top": null,
            "grid_column": null,
            "overflow_y": null,
            "overflow_x": null,
            "grid_auto_flow": null,
            "grid_area": null,
            "grid_template_columns": null,
            "flex": null,
            "_model_name": "LayoutModel",
            "justify_items": null,
            "grid_row": null,
            "max_height": null,
            "align_content": null,
            "visibility": null,
            "align_self": null,
            "height": null,
            "min_height": null,
            "padding": null,
            "grid_auto_rows": null,
            "grid_gap": null,
            "max_width": null,
            "order": null,
            "_view_module_version": "1.2.0",
            "grid_template_areas": null,
            "object_position": null,
            "object_fit": null,
            "grid_auto_columns": null,
            "margin": null,
            "display": null,
            "left": null
          }
        },
        "7e9c2a7a3db94a109bf736602f0b3fe1": {
          "model_module": "@jupyter-widgets/base",
          "model_name": "LayoutModel",
          "state": {
            "_view_name": "LayoutView",
            "grid_template_rows": null,
            "right": null,
            "justify_content": null,
            "_view_module": "@jupyter-widgets/base",
            "overflow": null,
            "_model_module_version": "1.2.0",
            "_view_count": null,
            "flex_flow": null,
            "width": null,
            "min_width": null,
            "border": null,
            "align_items": null,
            "bottom": null,
            "_model_module": "@jupyter-widgets/base",
            "top": null,
            "grid_column": null,
            "overflow_y": null,
            "overflow_x": null,
            "grid_auto_flow": null,
            "grid_area": null,
            "grid_template_columns": null,
            "flex": null,
            "_model_name": "LayoutModel",
            "justify_items": null,
            "grid_row": null,
            "max_height": null,
            "align_content": null,
            "visibility": null,
            "align_self": null,
            "height": null,
            "min_height": null,
            "padding": null,
            "grid_auto_rows": null,
            "grid_gap": null,
            "max_width": null,
            "order": null,
            "_view_module_version": "1.2.0",
            "grid_template_areas": null,
            "object_position": null,
            "object_fit": null,
            "grid_auto_columns": null,
            "margin": null,
            "display": null,
            "left": null
          }
        }
      }
    }
  },
  "cells": [
    {
      "cell_type": "code",
      "metadata": {
        "id": "bRzaD3HPQ85n"
      },
      "source": [
        "from fastbook import *\r\n",
        "from fastai.vision.widgets import *"
      ],
      "execution_count": 1,
      "outputs": []
    },
    {
      "cell_type": "code",
      "metadata": {
        "id": "YH1lyuSVQKgY"
      },
      "source": [
        "learn_inf = load_learner('/content/gdrive/MyDrive/export.pkl')"
      ],
      "execution_count": 2,
      "outputs": []
    },
    {
      "cell_type": "code",
      "metadata": {
        "id": "mp0dkjUhYta0"
      },
      "source": [
        "btn_upload = widgets.FileUpload()\r\n",
        "lbl_pred = widgets.Label()\r\n",
        "btn_run = widgets.Button(description='Classify')\r\n",
        "out_pl = widgets.Output()\r\n",
        "out_pl.clear_output()\r\n",
        "with out_pl: display(img.to_thumb(128,128))"
      ],
      "execution_count": 3,
      "outputs": []
    },
    {
      "cell_type": "code",
      "metadata": {
        "id": "sXbfTSu4ROtq"
      },
      "source": [
        "def on_click_classify(change):\r\n",
        "    img = PILImage.create(btn_upload.data[-1])\r\n",
        "    out_pl.clear_output()\r\n",
        "    with out_pl: display(img.to_thumb(128,128))\r\n",
        "    pred,pred_idx,probs = learn_inf.predict(img)\r\n",
        "    lbl_pred.value = f'Prediction: {pred}; Probability: {probs[pred_idx]:.04f}'\r\n",
        "\r\n",
        "btn_run.on_click(on_click_classify)"
      ],
      "execution_count": 4,
      "outputs": []
    },
    {
      "cell_type": "code",
      "metadata": {
        "colab": {
          "base_uri": "https://localhost:8080/",
          "height": 257,
          "referenced_widgets": [
            "c8d9d8dd05d941c9abc32218f9c48a4c",
            "1da98f11879c4963b2d9d48ea2ad9aa3",
            "5fd03976d5e64d7fa830474f2b24c7d9",
            "0dfe5a33e31b4da7bdac7ee59d362adb",
            "ed0a3e2d9c9e4d80b20f04607a9142fd",
            "fcde771944294f738abccc048f7e0019",
            "4cc458219881413cbd5f40cd7b3011b7",
            "fc86f3e71bbc4ee087537f009af13750",
            "7e8181e26f754a239dd8b714b05ca108",
            "eeccf2047e584d33aae03846b4e87ea0",
            "843488eeff7d47aba8e730f3993eed6b",
            "853f6c6702b6494bbdb68ac8b22469bc",
            "ccb33b98fc8e46b7a701c91c3a9134b8",
            "f75e5fbbc4a54d5d8c72147187280227",
            "fbe65c9d3b694bfcac97b084307ff39d",
            "7e9c2a7a3db94a109bf736602f0b3fe1"
          ]
        },
        "id": "lG1omNibRTEl",
        "outputId": "7206ea3e-89bb-4319-b495-b0d67ec67e41"
      },
      "source": [
        "VBox([widgets.Label('Select your cat!'), \r\n",
        "      btn_upload, btn_run, out_pl, lbl_pred])"
      ],
      "execution_count": 5,
      "outputs": [
        {
          "output_type": "display_data",
          "data": {
            "application/vnd.jupyter.widget-view+json": {
              "model_id": "c8d9d8dd05d941c9abc32218f9c48a4c",
              "version_minor": 0,
              "version_major": 2
            },
            "text/plain": [
              "VBox(children=(Label(value='Select your cat!'), FileUpload(value={}, description='Upload'), Button(description…"
            ]
          },
          "metadata": {
            "tags": []
          }
        },
        {
          "output_type": "display_data",
          "data": {
            "text/html": [
              ""
            ],
            "text/plain": [
              "<IPython.core.display.HTML object>"
            ]
          },
          "metadata": {
            "tags": []
          }
        }
      ]
    },
    {
      "cell_type": "code",
      "metadata": {
        "colab": {
          "base_uri": "https://localhost:8080/"
        },
        "id": "B3gi8m8SRUxj",
        "outputId": "b36971a4-a10a-4744-9233-6934191a2e78"
      },
      "source": [
        "!pip install voila\r\n",
        "!jupyter serverextension enable --sys-prefix voila "
      ],
      "execution_count": 6,
      "outputs": [
        {
          "output_type": "stream",
          "text": [
            "Requirement already satisfied: voila in /usr/local/lib/python3.7/dist-packages (0.2.7)\n",
            "Requirement already satisfied: jupyter-server<2.0.0,>=0.3.0 in /usr/local/lib/python3.7/dist-packages (from voila) (1.4.1)\n",
            "Requirement already satisfied: nbclient<0.6,>=0.4.0 in /usr/local/lib/python3.7/dist-packages (from voila) (0.5.2)\n",
            "Requirement already satisfied: jupyter-client<7,>=6.1.3 in /usr/local/lib/python3.7/dist-packages (from voila) (6.1.11)\n",
            "Requirement already satisfied: nbconvert<7,>=6.0.0 in /usr/local/lib/python3.7/dist-packages (from voila) (6.0.7)\n",
            "Requirement already satisfied: pyzmq>=17 in /usr/local/lib/python3.7/dist-packages (from jupyter-server<2.0.0,>=0.3.0->voila) (22.0.3)\n",
            "Requirement already satisfied: terminado>=0.8.3 in /usr/local/lib/python3.7/dist-packages (from jupyter-server<2.0.0,>=0.3.0->voila) (0.9.2)\n",
            "Requirement already satisfied: traitlets>=4.2.1 in /usr/local/lib/python3.7/dist-packages (from jupyter-server<2.0.0,>=0.3.0->voila) (5.0.5)\n",
            "Requirement already satisfied: tornado>=6.1.0 in /usr/local/lib/python3.7/dist-packages (from jupyter-server<2.0.0,>=0.3.0->voila) (6.1)\n",
            "Requirement already satisfied: Send2Trash in /usr/local/lib/python3.7/dist-packages (from jupyter-server<2.0.0,>=0.3.0->voila) (1.5.0)\n",
            "Requirement already satisfied: jinja2 in /usr/local/lib/python3.7/dist-packages (from jupyter-server<2.0.0,>=0.3.0->voila) (2.11.3)\n",
            "Requirement already satisfied: anyio>=2.0.2 in /usr/local/lib/python3.7/dist-packages (from jupyter-server<2.0.0,>=0.3.0->voila) (2.2.0)\n",
            "Requirement already satisfied: ipython-genutils in /usr/local/lib/python3.7/dist-packages (from jupyter-server<2.0.0,>=0.3.0->voila) (0.2.0)\n",
            "Requirement already satisfied: nbformat in /usr/local/lib/python3.7/dist-packages (from jupyter-server<2.0.0,>=0.3.0->voila) (5.1.2)\n",
            "Requirement already satisfied: jupyter-core>=4.4.0 in /usr/local/lib/python3.7/dist-packages (from jupyter-server<2.0.0,>=0.3.0->voila) (4.7.1)\n",
            "Requirement already satisfied: prometheus-client in /usr/local/lib/python3.7/dist-packages (from jupyter-server<2.0.0,>=0.3.0->voila) (0.9.0)\n",
            "Requirement already satisfied: async-generator in /usr/local/lib/python3.7/dist-packages (from nbclient<0.6,>=0.4.0->voila) (1.10)\n",
            "Requirement already satisfied: nest-asyncio in /usr/local/lib/python3.7/dist-packages (from nbclient<0.6,>=0.4.0->voila) (1.5.1)\n",
            "Requirement already satisfied: python-dateutil>=2.1 in /usr/local/lib/python3.7/dist-packages (from jupyter-client<7,>=6.1.3->voila) (2.8.1)\n",
            "Requirement already satisfied: testpath in /usr/local/lib/python3.7/dist-packages (from nbconvert<7,>=6.0.0->voila) (0.4.4)\n",
            "Requirement already satisfied: pygments>=2.4.1 in /usr/local/lib/python3.7/dist-packages (from nbconvert<7,>=6.0.0->voila) (2.6.1)\n",
            "Requirement already satisfied: mistune<2,>=0.8.1 in /usr/local/lib/python3.7/dist-packages (from nbconvert<7,>=6.0.0->voila) (0.8.4)\n",
            "Requirement already satisfied: bleach in /usr/local/lib/python3.7/dist-packages (from nbconvert<7,>=6.0.0->voila) (3.3.0)\n",
            "Requirement already satisfied: jupyterlab-pygments in /usr/local/lib/python3.7/dist-packages (from nbconvert<7,>=6.0.0->voila) (0.1.2)\n",
            "Requirement already satisfied: defusedxml in /usr/local/lib/python3.7/dist-packages (from nbconvert<7,>=6.0.0->voila) (0.6.0)\n",
            "Requirement already satisfied: entrypoints>=0.2.2 in /usr/local/lib/python3.7/dist-packages (from nbconvert<7,>=6.0.0->voila) (0.3)\n",
            "Requirement already satisfied: pandocfilters>=1.4.1 in /usr/local/lib/python3.7/dist-packages (from nbconvert<7,>=6.0.0->voila) (1.4.3)\n",
            "Requirement already satisfied: ptyprocess; os_name != \"nt\" in /usr/local/lib/python3.7/dist-packages (from terminado>=0.8.3->jupyter-server<2.0.0,>=0.3.0->voila) (0.7.0)\n",
            "Requirement already satisfied: MarkupSafe>=0.23 in /usr/local/lib/python3.7/dist-packages (from jinja2->jupyter-server<2.0.0,>=0.3.0->voila) (1.1.1)\n",
            "Requirement already satisfied: typing-extensions; python_version < \"3.8\" in /usr/local/lib/python3.7/dist-packages (from anyio>=2.0.2->jupyter-server<2.0.0,>=0.3.0->voila) (3.7.4.3)\n",
            "Requirement already satisfied: idna>=2.8 in /usr/local/lib/python3.7/dist-packages (from anyio>=2.0.2->jupyter-server<2.0.0,>=0.3.0->voila) (2.10)\n",
            "Requirement already satisfied: sniffio>=1.1 in /usr/local/lib/python3.7/dist-packages (from anyio>=2.0.2->jupyter-server<2.0.0,>=0.3.0->voila) (1.2.0)\n",
            "Requirement already satisfied: jsonschema!=2.5.0,>=2.4 in /usr/local/lib/python3.7/dist-packages (from nbformat->jupyter-server<2.0.0,>=0.3.0->voila) (2.6.0)\n",
            "Requirement already satisfied: six>=1.5 in /usr/local/lib/python3.7/dist-packages (from python-dateutil>=2.1->jupyter-client<7,>=6.1.3->voila) (1.15.0)\n",
            "Requirement already satisfied: webencodings in /usr/local/lib/python3.7/dist-packages (from bleach->nbconvert<7,>=6.0.0->voila) (0.5.1)\n",
            "Requirement already satisfied: packaging in /usr/local/lib/python3.7/dist-packages (from bleach->nbconvert<7,>=6.0.0->voila) (20.9)\n",
            "Requirement already satisfied: pyparsing>=2.0.2 in /usr/local/lib/python3.7/dist-packages (from packaging->bleach->nbconvert<7,>=6.0.0->voila) (2.4.7)\n",
            "Enabling: voila\n",
            "- Writing config: /usr/etc/jupyter\n",
            "    - Validating...\n",
            "Error loading server extension voila\n",
            "     \u001b[31m X\u001b[0m is voila importable?\n"
          ],
          "name": "stdout"
        }
      ]
    }
  ]
}